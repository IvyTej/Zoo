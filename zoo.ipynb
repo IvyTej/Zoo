{
 "cells": [
  {
   "cell_type": "code",
   "execution_count": 1,
   "id": "a03eeecd-ce88-49a2-9019-e8c46043147b",
   "metadata": {},
   "outputs": [
    {
     "name": "stdout",
     "output_type": "stream",
     "text": [
      "Open 9-5 daily\n"
     ]
    }
   ],
   "source": [
    "def hours():\n",
    "    print('Open 9-5 daily')\n",
    "\n",
    "# Simulating importing this module as menagerie\n",
    "menagerie = type(\"Module\", (), {\"hours\": hours})\n",
    "\n",
    "# Now call the hours function\n",
    "menagerie.hours()"
   ]
  }
 ],
 "metadata": {
  "kernelspec": {
   "display_name": "Python 3 (ipykernel)",
   "language": "python",
   "name": "python3"
  },
  "language_info": {
   "codemirror_mode": {
    "name": "ipython",
    "version": 3
   },
   "file_extension": ".py",
   "mimetype": "text/x-python",
   "name": "python",
   "nbconvert_exporter": "python",
   "pygments_lexer": "ipython3",
   "version": "3.12.4"
  }
 },
 "nbformat": 4,
 "nbformat_minor": 5
}
